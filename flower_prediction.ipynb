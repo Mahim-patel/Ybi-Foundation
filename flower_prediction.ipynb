{
  "cells": [
    {
      "cell_type": "markdown",
      "metadata": {
        "id": "view-in-github",
        "colab_type": "text"
      },
      "source": [
        "<a href=\"https://colab.research.google.com/github/Krish09092004/Internship-Project/blob/main/flower_prediction.ipynb\" target=\"_parent\"><img src=\"https://colab.research.google.com/assets/colab-badge.svg\" alt=\"Open In Colab\"/></a>"
      ]
    },
    {
      "cell_type": "markdown",
      "source": [
        "#**Flower Prediction**"
      ],
      "metadata": {
        "id": "mvJeq9apDu8A"
      },
      "id": "mvJeq9apDu8A"
    },
    {
      "cell_type": "markdown",
      "source": [
        "#**Objective:-**    \n",
        "\n",
        "To predict the flower type using the sepal-length and sepal-width of the leaf."
      ],
      "metadata": {
        "id": "Gz546oZKEK6-"
      },
      "id": "Gz546oZKEK6-"
    },
    {
      "cell_type": "markdown",
      "source": [
        "#**Data source**:-\n",
        "\n",
        "Downloaded the dataset from the Kaggle."
      ],
      "metadata": {
        "id": "u6UBkxd0Ent0"
      },
      "id": "u6UBkxd0Ent0"
    },
    {
      "cell_type": "markdown",
      "id": "7c553794",
      "metadata": {
        "id": "7c553794"
      },
      "source": [
        "# import libraries"
      ]
    },
    {
      "cell_type": "code",
      "execution_count": null,
      "id": "2a299eed",
      "metadata": {
        "id": "2a299eed"
      },
      "outputs": [],
      "source": [
        "\n",
        "import numpy as np\n",
        "import pandas as pd\n",
        "import matplotlib.pyplot as plt\n",
        "from pandas import read_csv\n",
        "from IPython.display import clear_output\n",
        "from six.moves import urllib\n",
        "from keras.models import Sequential\n",
        "from sklearn.model_selection import train_test_split\n",
        "import tensorflow.compat.v2.feature_column as fc\n",
        "import tensorflow.compat.v2 as tf\n",
        "import tensorflow as tf\n",
        "import pandas as read_csv\n"
      ]
    },
    {
      "cell_type": "markdown",
      "id": "bc155da9",
      "metadata": {
        "id": "bc155da9"
      },
      "source": [
        "# Datasets"
      ]
    },
    {
      "cell_type": "code",
      "execution_count": null,
      "id": "94dee577",
      "metadata": {
        "id": "94dee577"
      },
      "outputs": [],
      "source": [
        "CSV_COLUMN_NAMES = ['SepalLength', 'SepalWidth', 'PetalLength', 'PetalWidth', 'Species']\n",
        "SPECIES = ['Setosa', 'Versicolor', 'Virginica']\n",
        "# Lets define some constants to help us later on\n",
        "train_path = tf.keras.utils.get_file(\n",
        "    \"iris_training.csv\", \"https://storage.googleapis.com/download.tensorflow.org/data/iris_training.csv\")\n",
        "test_path = tf.keras.utils.get_file(\n",
        "    \"iris_test.csv\", \"https://storage.googleapis.com/download.tensorflow.org/data/iris_test.csv\")\n",
        "train = pd.read_csv(train_path, names=CSV_COLUMN_NAMES, header=0)\n",
        "test = pd.read_csv(test_path, names=CSV_COLUMN_NAMES, header=0)\n",
        "# Here we use keras (a module inside of TensorFlow) to grab our datasets and read them into a pandas dataframe\n"
      ]
    },
    {
      "cell_type": "markdown",
      "id": "a75a320a",
      "metadata": {
        "id": "a75a320a"
      },
      "source": [
        "# display-data\n"
      ]
    },
    {
      "cell_type": "code",
      "execution_count": null,
      "id": "39162b2d",
      "metadata": {
        "id": "39162b2d",
        "outputId": "d5b5cb04-e0f7-41b9-8c0f-d10d519552a8"
      },
      "outputs": [
        {
          "data": {
            "text/html": [
              "<div>\n",
              "<style scoped>\n",
              "    .dataframe tbody tr th:only-of-type {\n",
              "        vertical-align: middle;\n",
              "    }\n",
              "\n",
              "    .dataframe tbody tr th {\n",
              "        vertical-align: top;\n",
              "    }\n",
              "\n",
              "    .dataframe thead th {\n",
              "        text-align: right;\n",
              "    }\n",
              "</style>\n",
              "<table border=\"1\" class=\"dataframe\">\n",
              "  <thead>\n",
              "    <tr style=\"text-align: right;\">\n",
              "      <th></th>\n",
              "      <th>SepalLength</th>\n",
              "      <th>SepalWidth</th>\n",
              "      <th>PetalLength</th>\n",
              "      <th>PetalWidth</th>\n",
              "      <th>Species</th>\n",
              "    </tr>\n",
              "  </thead>\n",
              "  <tbody>\n",
              "    <tr>\n",
              "      <th>0</th>\n",
              "      <td>6.4</td>\n",
              "      <td>2.8</td>\n",
              "      <td>5.6</td>\n",
              "      <td>2.2</td>\n",
              "      <td>2</td>\n",
              "    </tr>\n",
              "    <tr>\n",
              "      <th>1</th>\n",
              "      <td>5.0</td>\n",
              "      <td>2.3</td>\n",
              "      <td>3.3</td>\n",
              "      <td>1.0</td>\n",
              "      <td>1</td>\n",
              "    </tr>\n",
              "    <tr>\n",
              "      <th>2</th>\n",
              "      <td>4.9</td>\n",
              "      <td>2.5</td>\n",
              "      <td>4.5</td>\n",
              "      <td>1.7</td>\n",
              "      <td>2</td>\n",
              "    </tr>\n",
              "    <tr>\n",
              "      <th>3</th>\n",
              "      <td>4.9</td>\n",
              "      <td>3.1</td>\n",
              "      <td>1.5</td>\n",
              "      <td>0.1</td>\n",
              "      <td>0</td>\n",
              "    </tr>\n",
              "    <tr>\n",
              "      <th>4</th>\n",
              "      <td>5.7</td>\n",
              "      <td>3.8</td>\n",
              "      <td>1.7</td>\n",
              "      <td>0.3</td>\n",
              "      <td>0</td>\n",
              "    </tr>\n",
              "  </tbody>\n",
              "</table>\n",
              "</div>"
            ],
            "text/plain": [
              "   SepalLength  SepalWidth  PetalLength  PetalWidth  Species\n",
              "0          6.4         2.8          5.6         2.2        2\n",
              "1          5.0         2.3          3.3         1.0        1\n",
              "2          4.9         2.5          4.5         1.7        2\n",
              "3          4.9         3.1          1.5         0.1        0\n",
              "4          5.7         3.8          1.7         0.3        0"
            ]
          },
          "execution_count": 3,
          "metadata": {},
          "output_type": "execute_result"
        }
      ],
      "source": [
        "train.head()\n"
      ]
    },
    {
      "cell_type": "markdown",
      "id": "a3489827",
      "metadata": {
        "id": "a3489827"
      },
      "source": [
        "# pop the column & display"
      ]
    },
    {
      "cell_type": "code",
      "execution_count": null,
      "id": "fd281da2",
      "metadata": {
        "id": "fd281da2",
        "outputId": "7dc4138e-97e2-44e2-9fcc-2599fe8963a8"
      },
      "outputs": [
        {
          "data": {
            "text/html": [
              "<div>\n",
              "<style scoped>\n",
              "    .dataframe tbody tr th:only-of-type {\n",
              "        vertical-align: middle;\n",
              "    }\n",
              "\n",
              "    .dataframe tbody tr th {\n",
              "        vertical-align: top;\n",
              "    }\n",
              "\n",
              "    .dataframe thead th {\n",
              "        text-align: right;\n",
              "    }\n",
              "</style>\n",
              "<table border=\"1\" class=\"dataframe\">\n",
              "  <thead>\n",
              "    <tr style=\"text-align: right;\">\n",
              "      <th></th>\n",
              "      <th>SepalLength</th>\n",
              "      <th>SepalWidth</th>\n",
              "      <th>PetalLength</th>\n",
              "      <th>PetalWidth</th>\n",
              "    </tr>\n",
              "  </thead>\n",
              "  <tbody>\n",
              "    <tr>\n",
              "      <th>0</th>\n",
              "      <td>6.4</td>\n",
              "      <td>2.8</td>\n",
              "      <td>5.6</td>\n",
              "      <td>2.2</td>\n",
              "    </tr>\n",
              "    <tr>\n",
              "      <th>1</th>\n",
              "      <td>5.0</td>\n",
              "      <td>2.3</td>\n",
              "      <td>3.3</td>\n",
              "      <td>1.0</td>\n",
              "    </tr>\n",
              "    <tr>\n",
              "      <th>2</th>\n",
              "      <td>4.9</td>\n",
              "      <td>2.5</td>\n",
              "      <td>4.5</td>\n",
              "      <td>1.7</td>\n",
              "    </tr>\n",
              "    <tr>\n",
              "      <th>3</th>\n",
              "      <td>4.9</td>\n",
              "      <td>3.1</td>\n",
              "      <td>1.5</td>\n",
              "      <td>0.1</td>\n",
              "    </tr>\n",
              "    <tr>\n",
              "      <th>4</th>\n",
              "      <td>5.7</td>\n",
              "      <td>3.8</td>\n",
              "      <td>1.7</td>\n",
              "      <td>0.3</td>\n",
              "    </tr>\n",
              "  </tbody>\n",
              "</table>\n",
              "</div>"
            ],
            "text/plain": [
              "   SepalLength  SepalWidth  PetalLength  PetalWidth\n",
              "0          6.4         2.8          5.6         2.2\n",
              "1          5.0         2.3          3.3         1.0\n",
              "2          4.9         2.5          4.5         1.7\n",
              "3          4.9         3.1          1.5         0.1\n",
              "4          5.7         3.8          1.7         0.3"
            ]
          },
          "execution_count": 4,
          "metadata": {},
          "output_type": "execute_result"
        }
      ],
      "source": [
        "train_y = train.pop('Species')\n",
        "test_y = test.pop('Species')\n",
        "train.head() # the species column is now gone"
      ]
    },
    {
      "cell_type": "markdown",
      "id": "d305cb29",
      "metadata": {
        "id": "d305cb29"
      },
      "source": [
        "# input-function"
      ]
    },
    {
      "cell_type": "code",
      "execution_count": null,
      "id": "423de7cd",
      "metadata": {
        "id": "423de7cd"
      },
      "outputs": [],
      "source": [
        "def input_fn(features, labels, training=True, batch_size=300):\n",
        "    # Convert the inputs to a Dataset.\n",
        "    dataset = tf.data.Dataset.from_tensor_slices((dict(features), labels))\n",
        "\n",
        "    # Shuffle and repeat if you are in training mode.\n",
        "    if training:\n",
        "        dataset = dataset.shuffle(1000).repeat()\n",
        "\n",
        "    return dataset.batch(batch_size)\n",
        "\n"
      ]
    },
    {
      "cell_type": "markdown",
      "id": "3729453f",
      "metadata": {
        "id": "3729453f"
      },
      "source": [
        "# feature column"
      ]
    },
    {
      "cell_type": "code",
      "execution_count": null,
      "id": "a9731cae",
      "metadata": {
        "id": "a9731cae",
        "outputId": "4ffee1dd-3777-441f-aa23-2bf871e6ae90"
      },
      "outputs": [
        {
          "name": "stdout",
          "output_type": "stream",
          "text": [
            "[NumericColumn(key='SepalLength', shape=(1,), default_value=None, dtype=tf.float32, normalizer_fn=None), NumericColumn(key='SepalWidth', shape=(1,), default_value=None, dtype=tf.float32, normalizer_fn=None), NumericColumn(key='PetalLength', shape=(1,), default_value=None, dtype=tf.float32, normalizer_fn=None), NumericColumn(key='PetalWidth', shape=(1,), default_value=None, dtype=tf.float32, normalizer_fn=None)]\n"
          ]
        }
      ],
      "source": [
        "my_feature_columns = []\n",
        "for key in train.keys():\n",
        "    my_feature_columns.append(tf.feature_column.numeric_column(key=key))\n",
        "print(my_feature_columns)\n"
      ]
    },
    {
      "cell_type": "markdown",
      "id": "a0aaada2",
      "metadata": {
        "id": "a0aaada2"
      },
      "source": [
        "# building classifier model (DNN classifier)"
      ]
    },
    {
      "cell_type": "code",
      "execution_count": null,
      "id": "4bc6c477",
      "metadata": {
        "id": "4bc6c477",
        "outputId": "6f1365f8-66a5-4b3a-fea3-e1f375f01bf7"
      },
      "outputs": [
        {
          "name": "stdout",
          "output_type": "stream",
          "text": [
            "INFO:tensorflow:Using default config.\n",
            "WARNING:tensorflow:Using temporary folder as model directory: C:\\Users\\ASUS\\AppData\\Local\\Temp\\tmp900z9uk_\n",
            "INFO:tensorflow:Using config: {'_model_dir': 'C:\\\\Users\\\\ASUS\\\\AppData\\\\Local\\\\Temp\\\\tmp900z9uk_', '_tf_random_seed': None, '_save_summary_steps': 100, '_save_checkpoints_steps': None, '_save_checkpoints_secs': 600, '_session_config': allow_soft_placement: true\n",
            "graph_options {\n",
            "  rewrite_options {\n",
            "    meta_optimizer_iterations: ONE\n",
            "  }\n",
            "}\n",
            ", '_keep_checkpoint_max': 5, '_keep_checkpoint_every_n_hours': 10000, '_log_step_count_steps': 100, '_train_distribute': None, '_device_fn': None, '_protocol': None, '_eval_distribute': None, '_experimental_distribute': None, '_experimental_max_worker_delay_secs': None, '_session_creation_timeout_secs': 7200, '_checkpoint_save_graph_def': True, '_service': None, '_cluster_spec': ClusterSpec({}), '_task_type': 'worker', '_task_id': 0, '_global_id_in_cluster': 0, '_master': '', '_evaluation_master': '', '_is_chief': True, '_num_ps_replicas': 0, '_num_worker_replicas': 1}\n"
          ]
        }
      ],
      "source": [
        "classifier = tf.estimator.DNNClassifier(\n",
        "    feature_columns=my_feature_columns,\n",
        "    # Two hidden layers of 30 and 10 nodes respectively.\n",
        "    hidden_units=[30, 10],\n",
        "    # The model must choose between 3 classes.\n",
        "    n_classes=3)\n"
      ]
    },
    {
      "cell_type": "markdown",
      "id": "e33b2574",
      "metadata": {
        "id": "e33b2574"
      },
      "source": [
        "# training model"
      ]
    },
    {
      "cell_type": "code",
      "execution_count": null,
      "id": "89fb6b31",
      "metadata": {
        "id": "89fb6b31",
        "outputId": "78b0848a-835b-4d14-8df8-74bb88e47ce7"
      },
      "outputs": [
        {
          "name": "stdout",
          "output_type": "stream",
          "text": [
            "INFO:tensorflow:Calling model_fn.\n",
            "INFO:tensorflow:Done calling model_fn.\n",
            "INFO:tensorflow:Create CheckpointSaverHook.\n",
            "INFO:tensorflow:Graph was finalized.\n",
            "INFO:tensorflow:Running local_init_op.\n",
            "INFO:tensorflow:Done running local_init_op.\n",
            "INFO:tensorflow:Calling checkpoint listeners before saving checkpoint 0...\n",
            "INFO:tensorflow:Saving checkpoints for 0 into C:\\Users\\ASUS\\AppData\\Local\\Temp\\tmp900z9uk_\\model.ckpt.\n",
            "INFO:tensorflow:Calling checkpoint listeners after saving checkpoint 0...\n",
            "INFO:tensorflow:loss = 1.2382624, step = 0\n",
            "INFO:tensorflow:global_step/sec: 289.747\n",
            "INFO:tensorflow:loss = 1.0274695, step = 100 (0.345 sec)\n",
            "INFO:tensorflow:global_step/sec: 376.573\n",
            "INFO:tensorflow:loss = 0.9506084, step = 200 (0.281 sec)\n",
            "INFO:tensorflow:global_step/sec: 358.352\n",
            "INFO:tensorflow:loss = 0.8930688, step = 300 (0.263 sec)\n",
            "INFO:tensorflow:global_step/sec: 374.876\n",
            "INFO:tensorflow:loss = 0.8471074, step = 400 (0.267 sec)\n",
            "INFO:tensorflow:global_step/sec: 334.653\n",
            "INFO:tensorflow:loss = 0.8123142, step = 500 (0.299 sec)\n",
            "INFO:tensorflow:global_step/sec: 373.017\n",
            "INFO:tensorflow:loss = 0.78341216, step = 600 (0.268 sec)\n",
            "INFO:tensorflow:global_step/sec: 398.976\n",
            "INFO:tensorflow:loss = 0.76671815, step = 700 (0.251 sec)\n",
            "INFO:tensorflow:global_step/sec: 363.038\n",
            "INFO:tensorflow:loss = 0.73115724, step = 800 (0.275 sec)\n",
            "INFO:tensorflow:global_step/sec: 387.991\n",
            "INFO:tensorflow:loss = 0.70712304, step = 900 (0.258 sec)\n",
            "INFO:tensorflow:global_step/sec: 375.658\n",
            "INFO:tensorflow:loss = 0.6854881, step = 1000 (0.266 sec)\n",
            "INFO:tensorflow:global_step/sec: 374.351\n",
            "INFO:tensorflow:loss = 0.67370236, step = 1100 (0.283 sec)\n",
            "INFO:tensorflow:global_step/sec: 375.062\n",
            "INFO:tensorflow:loss = 0.6669727, step = 1200 (0.267 sec)\n",
            "INFO:tensorflow:global_step/sec: 375.012\n",
            "INFO:tensorflow:loss = 0.6437931, step = 1300 (0.251 sec)\n",
            "INFO:tensorflow:global_step/sec: 376.362\n",
            "INFO:tensorflow:loss = 0.6384506, step = 1400 (0.266 sec)\n",
            "INFO:tensorflow:global_step/sec: 375.482\n",
            "INFO:tensorflow:loss = 0.62111545, step = 1500 (0.266 sec)\n",
            "INFO:tensorflow:global_step/sec: 398.013\n",
            "INFO:tensorflow:loss = 0.6184022, step = 1600 (0.251 sec)\n",
            "INFO:tensorflow:global_step/sec: 354.91\n",
            "INFO:tensorflow:loss = 0.603454, step = 1700 (0.282 sec)\n",
            "INFO:tensorflow:global_step/sec: 374.475\n",
            "INFO:tensorflow:loss = 0.59502405, step = 1800 (0.267 sec)\n",
            "INFO:tensorflow:global_step/sec: 353.686\n",
            "INFO:tensorflow:loss = 0.5831828, step = 1900 (0.283 sec)\n",
            "INFO:tensorflow:global_step/sec: 373.378\n",
            "INFO:tensorflow:loss = 0.5769554, step = 2000 (0.268 sec)\n",
            "INFO:tensorflow:global_step/sec: 375.922\n",
            "INFO:tensorflow:loss = 0.56844944, step = 2100 (0.266 sec)\n",
            "INFO:tensorflow:global_step/sec: 333.032\n",
            "INFO:tensorflow:loss = 0.5559092, step = 2200 (0.306 sec)\n",
            "INFO:tensorflow:global_step/sec: 401.323\n",
            "INFO:tensorflow:loss = 0.55347717, step = 2300 (0.244 sec)\n",
            "INFO:tensorflow:global_step/sec: 355.453\n",
            "INFO:tensorflow:loss = 0.54901326, step = 2400 (0.288 sec)\n",
            "INFO:tensorflow:global_step/sec: 380.44\n",
            "INFO:tensorflow:loss = 0.5376877, step = 2500 (0.256 sec)\n",
            "INFO:tensorflow:global_step/sec: 319.696\n",
            "INFO:tensorflow:loss = 0.5326723, step = 2600 (0.313 sec)\n",
            "INFO:tensorflow:global_step/sec: 299.647\n",
            "INFO:tensorflow:loss = 0.52626854, step = 2700 (0.335 sec)\n",
            "INFO:tensorflow:global_step/sec: 306.41\n",
            "INFO:tensorflow:loss = 0.5229116, step = 2800 (0.332 sec)\n",
            "INFO:tensorflow:global_step/sec: 313.545\n",
            "INFO:tensorflow:loss = 0.51960856, step = 2900 (0.316 sec)\n",
            "INFO:tensorflow:global_step/sec: 295.942\n",
            "INFO:tensorflow:loss = 0.5125092, step = 3000 (0.334 sec)\n",
            "INFO:tensorflow:global_step/sec: 333.994\n",
            "INFO:tensorflow:loss = 0.5041249, step = 3100 (0.299 sec)\n",
            "INFO:tensorflow:global_step/sec: 315.714\n",
            "INFO:tensorflow:loss = 0.49223337, step = 3200 (0.317 sec)\n",
            "INFO:tensorflow:global_step/sec: 316.174\n",
            "INFO:tensorflow:loss = 0.49720448, step = 3300 (0.316 sec)\n",
            "INFO:tensorflow:global_step/sec: 333.076\n",
            "INFO:tensorflow:loss = 0.49260154, step = 3400 (0.311 sec)\n",
            "INFO:tensorflow:global_step/sec: 289.959\n",
            "INFO:tensorflow:loss = 0.48529145, step = 3500 (0.334 sec)\n",
            "INFO:tensorflow:global_step/sec: 296.189\n",
            "INFO:tensorflow:loss = 0.48177984, step = 3600 (0.338 sec)\n",
            "INFO:tensorflow:global_step/sec: 327.6\n",
            "INFO:tensorflow:loss = 0.47632805, step = 3700 (0.305 sec)\n",
            "INFO:tensorflow:global_step/sec: 276.183\n",
            "INFO:tensorflow:loss = 0.47868663, step = 3800 (0.362 sec)\n",
            "INFO:tensorflow:global_step/sec: 301.809\n",
            "INFO:tensorflow:loss = 0.47296885, step = 3900 (0.333 sec)\n",
            "INFO:tensorflow:global_step/sec: 307.692\n",
            "INFO:tensorflow:loss = 0.46043858, step = 4000 (0.324 sec)\n",
            "INFO:tensorflow:global_step/sec: 315.37\n",
            "INFO:tensorflow:loss = 0.46736085, step = 4100 (0.317 sec)\n",
            "INFO:tensorflow:global_step/sec: 288.237\n",
            "INFO:tensorflow:loss = 0.4581825, step = 4200 (0.347 sec)\n",
            "INFO:tensorflow:global_step/sec: 329.379\n",
            "INFO:tensorflow:loss = 0.45870715, step = 4300 (0.304 sec)\n",
            "INFO:tensorflow:global_step/sec: 302.303\n",
            "INFO:tensorflow:loss = 0.45173442, step = 4400 (0.331 sec)\n",
            "INFO:tensorflow:global_step/sec: 264.287\n",
            "INFO:tensorflow:loss = 0.44648725, step = 4500 (0.378 sec)\n",
            "INFO:tensorflow:global_step/sec: 273.449\n",
            "INFO:tensorflow:loss = 0.44299412, step = 4600 (0.367 sec)\n",
            "INFO:tensorflow:global_step/sec: 345.142\n",
            "INFO:tensorflow:loss = 0.44435778, step = 4700 (0.297 sec)\n",
            "INFO:tensorflow:global_step/sec: 372.256\n",
            "INFO:tensorflow:loss = 0.43650132, step = 4800 (0.261 sec)\n",
            "INFO:tensorflow:global_step/sec: 372.233\n",
            "INFO:tensorflow:loss = 0.43085918, step = 4900 (0.269 sec)\n",
            "INFO:tensorflow:global_step/sec: 374.407\n",
            "INFO:tensorflow:loss = 0.43790272, step = 5000 (0.267 sec)\n",
            "INFO:tensorflow:global_step/sec: 304.483\n",
            "INFO:tensorflow:loss = 0.4283813, step = 5100 (0.328 sec)\n",
            "INFO:tensorflow:global_step/sec: 321.055\n",
            "INFO:tensorflow:loss = 0.42415342, step = 5200 (0.321 sec)\n",
            "INFO:tensorflow:global_step/sec: 315.76\n",
            "INFO:tensorflow:loss = 0.42878374, step = 5300 (0.307 sec)\n",
            "INFO:tensorflow:global_step/sec: 314.669\n",
            "INFO:tensorflow:loss = 0.41708365, step = 5400 (0.318 sec)\n",
            "INFO:tensorflow:global_step/sec: 317.166\n",
            "INFO:tensorflow:loss = 0.42132214, step = 5500 (0.315 sec)\n",
            "INFO:tensorflow:global_step/sec: 345.643\n",
            "INFO:tensorflow:loss = 0.41208455, step = 5600 (0.297 sec)\n",
            "INFO:tensorflow:global_step/sec: 305.206\n",
            "INFO:tensorflow:loss = 0.4062646, step = 5700 (0.320 sec)\n",
            "INFO:tensorflow:global_step/sec: 329.748\n",
            "INFO:tensorflow:loss = 0.4042844, step = 5800 (0.303 sec)\n",
            "INFO:tensorflow:global_step/sec: 357.462\n",
            "INFO:tensorflow:loss = 0.40168294, step = 5900 (0.280 sec)\n",
            "INFO:tensorflow:Calling checkpoint listeners before saving checkpoint 6000...\n",
            "INFO:tensorflow:Saving checkpoints for 6000 into C:\\Users\\ASUS\\AppData\\Local\\Temp\\tmp900z9uk_\\model.ckpt.\n",
            "INFO:tensorflow:Calling checkpoint listeners after saving checkpoint 6000...\n",
            "INFO:tensorflow:Loss for final step: 0.39945683.\n"
          ]
        },
        {
          "data": {
            "text/plain": [
              "<tensorflow_estimator.python.estimator.canned.dnn.DNNClassifierV2 at 0x1f9b33965d0>"
            ]
          },
          "execution_count": 15,
          "metadata": {},
          "output_type": "execute_result"
        }
      ],
      "source": [
        "classifier.train(\n",
        "    input_fn=lambda: input_fn(train, train_y, training=True),\n",
        "    steps=5000)\n",
        "# We include a lambda to avoid creating an inner function previously\n"
      ]
    },
    {
      "cell_type": "markdown",
      "id": "7ae0fcb2",
      "metadata": {
        "id": "7ae0fcb2"
      },
      "source": [
        "# Evaluation"
      ]
    },
    {
      "cell_type": "code",
      "execution_count": null,
      "id": "caa7e5ba",
      "metadata": {
        "id": "caa7e5ba",
        "outputId": "64533ec7-9319-4be3-b379-18b443a52bbf"
      },
      "outputs": [
        {
          "name": "stdout",
          "output_type": "stream",
          "text": [
            "INFO:tensorflow:Calling model_fn.\n",
            "INFO:tensorflow:Done calling model_fn.\n",
            "INFO:tensorflow:Starting evaluation at 2024-01-08T15:24:15\n",
            "INFO:tensorflow:Graph was finalized.\n",
            "INFO:tensorflow:Restoring parameters from C:\\Users\\ASUS\\AppData\\Local\\Temp\\tmp900z9uk_\\model.ckpt-6000\n",
            "INFO:tensorflow:Running local_init_op.\n",
            "INFO:tensorflow:Done running local_init_op.\n",
            "INFO:tensorflow:Inference Time : 0.26941s\n",
            "INFO:tensorflow:Finished evaluation at 2024-01-08-15:24:16\n",
            "INFO:tensorflow:Saving dict for global step 6000: accuracy = 0.8, average_loss = 0.4861199, global_step = 6000, loss = 0.4861199\n",
            "INFO:tensorflow:Saving 'checkpoint_path' summary for global step 6000: C:\\Users\\ASUS\\AppData\\Local\\Temp\\tmp900z9uk_\\model.ckpt-6000\n",
            "\n",
            "Test set accuracy: 0.800\n",
            "\n"
          ]
        }
      ],
      "source": [
        "eval_result = classifier.evaluate(\n",
        "    input_fn=lambda: input_fn(test, test_y, training=False))\n",
        "\n",
        "print('\\nTest set accuracy: {accuracy:0.3f}\\n'.format(**eval_result))\n"
      ]
    },
    {
      "cell_type": "markdown",
      "id": "e6305dcf",
      "metadata": {
        "id": "e6305dcf"
      },
      "source": [
        "# Prediction of flower"
      ]
    },
    {
      "cell_type": "code",
      "execution_count": null,
      "id": "04d5620a",
      "metadata": {
        "id": "04d5620a",
        "outputId": "a18eeb1d-2fbc-42e4-d609-cca8248ccd54"
      },
      "outputs": [
        {
          "name": "stdout",
          "output_type": "stream",
          "text": [
            "Please type numeric values as prompted.\n",
            "SepalLength: 5.9\n",
            "SepalWidth: 3\n",
            "SepalWidth: 4.2\n",
            "PetalLength: 4.2\n",
            "PetalWidth: 1.5\n",
            "INFO:tensorflow:Calling model_fn.\n",
            "INFO:tensorflow:Done calling model_fn.\n",
            "INFO:tensorflow:Graph was finalized.\n",
            "INFO:tensorflow:Restoring parameters from C:\\Users\\ASUS\\AppData\\Local\\Temp\\tmp900z9uk_\\model.ckpt-6000\n",
            "INFO:tensorflow:Running local_init_op.\n",
            "INFO:tensorflow:Done running local_init_op.\n",
            "Prediction is \"Versicolor\" (45.5%)\n"
          ]
        }
      ],
      "source": [
        "def input_fn(features, batch_size=300):\n",
        "    # Convert the inputs to a Dataset without labels.\n",
        "    return tf.data.Dataset.from_tensor_slices(dict(features)).batch(batch_size)\n",
        "\n",
        "features = ['SepalLength', 'SepalWidth', 'PetalLength', 'PetalWidth']\n",
        "predict = {}\n",
        "\n",
        "print(\"Please type numeric values as prompted.\")\n",
        "for feature in features:\n",
        "  valid = True\n",
        "  while valid:\n",
        "    val = input(feature + \": \")\n",
        "    if not val.isdigit(): valid = False\n",
        "\n",
        "  predict[feature] = [float(val)]\n",
        "\n",
        "predictions = classifier.predict(input_fn=lambda: input_fn(predict))\n",
        "for pred_dict in predictions:\n",
        "    class_id = pred_dict['class_ids'][0]\n",
        "    probability = pred_dict['probabilities'][class_id]\n",
        "\n",
        "    print('Prediction is \"{}\" ({:.1f}%)'.format(\n",
        "        SPECIES[class_id], 100 * probability))"
      ]
    },
    {
      "cell_type": "markdown",
      "id": "a0f29ee3",
      "metadata": {
        "id": "a0f29ee3"
      },
      "source": [
        "expected = ['Setosa', 'Versicolor', 'Virginica']\n",
        "predict_x = {\n",
        "    'SepalLength': [5.1, 5.9, 6.9],\n",
        "    'SepalWidth': [3.3, 3.0, 3.1],\n",
        "    'PetalLength': [1.7, 4.2, 5.4],\n",
        "    'PetalWidth': [0.5, 1.5, 2.1],\n",
        "}\n",
        "\n",
        "\n"
      ]
    },
    {
      "cell_type": "code",
      "execution_count": null,
      "id": "0765aea0",
      "metadata": {
        "id": "0765aea0"
      },
      "outputs": [],
      "source": []
    }
  ],
  "metadata": {
    "kernelspec": {
      "display_name": "Python 3 (ipykernel)",
      "language": "python",
      "name": "python3"
    },
    "language_info": {
      "codemirror_mode": {
        "name": "ipython",
        "version": 3
      },
      "file_extension": ".py",
      "mimetype": "text/x-python",
      "name": "python",
      "nbconvert_exporter": "python",
      "pygments_lexer": "ipython3",
      "version": "3.11.5"
    },
    "colab": {
      "provenance": [],
      "include_colab_link": true
    }
  },
  "nbformat": 4,
  "nbformat_minor": 5
}